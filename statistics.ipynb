{
  "nbformat": 4,
  "nbformat_minor": 0,
  "metadata": {
    "colab": {
      "name": "statistics.ipynb",
      "provenance": [],
      "collapsed_sections": []
    },
    "kernelspec": {
      "name": "python3",
      "display_name": "Python 3"
    }
  },
  "cells": [
    {
      "cell_type": "code",
      "metadata": {
        "id": "vQ3oZ-mQyj2Y"
      },
      "source": [
        "np.set_printoptions(precision=3)"
      ],
      "execution_count": 63,
      "outputs": []
    },
    {
      "cell_type": "code",
      "metadata": {
        "colab": {
          "base_uri": "https://localhost:8080/",
          "height": 282
        },
        "id": "284XXuFmquz9",
        "outputId": "c8f9e03c-832b-497d-9996-8472b4201c3f"
      },
      "source": [
        "a = np.array([0.01,0.02,0.03,0.04,0.05,0.06])\r\n",
        "b = np.array([15.46,14.59,12.66,12.55,11.57,11.42])\r\n",
        "\r\n",
        "\r\n",
        "\r\n",
        "import matplotlib.pyplot as plt\r\n",
        "import numpy as np\r\n",
        "import pandas as pd\r\n",
        "\r\n",
        "plt.scatter(a,b)\r\n",
        "plt.show()\r\n",
        "\r\n",
        "print(\"covar =\", np.cov(a,b)[0][1])"
      ],
      "execution_count": 109,
      "outputs": [
        {
          "output_type": "display_data",
          "data": {
            "image/png": "[encoded data removed]",
            "text/plain": [
              "<Figure size 432x288 with 1 Axes>"
            ]
          },
          "metadata": {
            "tags": [],
            "needs_background": "light"
          }
        },
        {
          "output_type": "stream",
          "text": [
            "covar = -0.029370000000000004\n"
          ],
          "name": "stdout"
        }
      ]
    },
    {
      "cell_type": "code",
      "metadata": {
        "colab": {
          "base_uri": "https://localhost:8080/"
        },
        "id": "P7P3Ymbdrwzm",
        "outputId": "4a4df1a4-81ed-47b5-913c-72797bed8195"
      },
      "source": [
        "import numpy as np\r\n",
        "from sklearn.linear_model import LinearRegression\r\n",
        "\r\n",
        "x = a.copy().reshape(-1, 1)\r\n",
        "y = b.copy()\r\n",
        "model = LinearRegression()\r\n",
        "model.fit(x,y)\r\n",
        "\r\n",
        "r_sq = model.score(x,y)\r\n",
        "print('coefficient of determination, R:', r_sq, np.sqrt(r_sq))\r\n",
        "\r\n",
        "print('intercept:', model.intercept_)\r\n",
        "\r\n",
        "print('slope:', model.coef_)"
      ],
      "execution_count": 116,
      "outputs": [
        {
          "output_type": "stream",
          "text": [
            "coefficient of determination, R: 0.9176486295238321 0.9579397838715292\n",
            "intercept: 15.97866666666667\n",
            "slope: [-83.914]\n"
          ],
          "name": "stdout"
        }
      ]
    },
    {
      "cell_type": "code",
      "metadata": {
        "colab": {
          "base_uri": "https://localhost:8080/"
        },
        "id": "r8j8npIYtADr",
        "outputId": "6b51966d-891c-4db1-d2d5-733d9834cf7f"
      },
      "source": [
        "y_pred = model.predict(x)\r\n",
        "print('predicted response:', y_pred, sep='\\n')\r\n",
        "print(\"std error of estimate = \", np.sqrt(np.sum((y - y_pred)**2)/(y.shape[0] - 2)))"
      ],
      "execution_count": 117,
      "outputs": [
        {
          "output_type": "stream",
          "text": [
            "predicted response:\n",
            "[15.14  14.3   13.461 12.622 11.783 10.944]\n",
            "std error of estimate =  0.5258018819361706\n"
          ],
          "name": "stdout"
        }
      ]
    },
    {
      "cell_type": "code",
      "metadata": {
        "colab": {
          "base_uri": "https://localhost:8080/",
          "height": 265
        },
        "id": "-F81nyTTtYqk",
        "outputId": "c21b4dce-b0d6-4ae8-bdf9-55dc9c1c75ed"
      },
      "source": [
        "plt.scatter(a,b)\r\n",
        "plt.plot(x, model.predict(x),color='k')\r\n",
        "plt.show()"
      ],
      "execution_count": 118,
      "outputs": [
        {
          "output_type": "display_data",
          "data": {
            "image/png": "[encoded data removed]",
            "text/plain": [
              "<Figure size 432x288 with 1 Axes>"
            ]
          },
          "metadata": {
            "tags": [],
            "needs_background": "light"
          }
        }
      ]
    },
    {
      "cell_type": "code",
      "metadata": {
        "colab": {
          "base_uri": "https://localhost:8080/",
          "height": 254
        },
        "id": "C2WFatuRzca9",
        "outputId": "a7d270b5-f75c-4543-889c-c2238316b3b1"
      },
      "source": [
        "import pandas as pd\r\n",
        "data = {'X':a, \r\n",
        "        'Y':b,\r\n",
        "        'X2':a**2,\r\n",
        "        'xy': a*b,\r\n",
        "        'y_mean': np.mean(np.array(b)),\r\n",
        "        'y_fit': y_pred,\r\n",
        "        '(y-y_mean)^2':(y - np.mean(np.array(b)))**2,\r\n",
        "        '(y-y_pred)^2':(y - y_pred)**2}\r\n",
        "\r\n",
        "df = pd.DataFrame(data)\r\n",
        "df.loc['total'] = df.sum()\r\n",
        "df"
      ],
      "execution_count": 129,
      "outputs": [
        {
          "output_type": "execute_result",
          "data": {
            "text/html": [
              "<div>\n",
              "<style scoped>\n",
              "    .dataframe tbody tr th:only-of-type {\n",
              "        vertical-align: middle;\n",
              "    }\n",
              "\n",
              "    .dataframe tbody tr th {\n",
              "        vertical-align: top;\n",
              "    }\n",
              "\n",
              "    .dataframe thead th {\n",
              "        text-align: right;\n",
              "    }\n",
              "</style>\n",
              "<table border=\"1\" class=\"dataframe\">\n",
              "  <thead>\n",
              "    <tr style=\"text-align: right;\">\n",
              "      <th></th>\n",
              "      <th>X</th>\n",
              "      <th>Y</th>\n",
              "      <th>X2</th>\n",
              "      <th>xy</th>\n",
              "      <th>y_mean</th>\n",
              "      <th>y_fit</th>\n",
              "      <th>(y-y_mean)^2</th>\n",
              "      <th>(y-y_pred)^2</th>\n",
              "    </tr>\n",
              "  </thead>\n",
              "  <tbody>\n",
              "    <tr>\n",
              "      <th>0</th>\n",
              "      <td>0.01</td>\n",
              "      <td>15.46</td>\n",
              "      <td>0.0001</td>\n",
              "      <td>0.1546</td>\n",
              "      <td>13.041667</td>\n",
              "      <td>15.139524</td>\n",
              "      <td>5.848336</td>\n",
              "      <td>0.102705</td>\n",
              "    </tr>\n",
              "    <tr>\n",
              "      <th>1</th>\n",
              "      <td>0.02</td>\n",
              "      <td>14.59</td>\n",
              "      <td>0.0004</td>\n",
              "      <td>0.2918</td>\n",
              "      <td>13.041667</td>\n",
              "      <td>14.300381</td>\n",
              "      <td>2.397336</td>\n",
              "      <td>0.083879</td>\n",
              "    </tr>\n",
              "    <tr>\n",
              "      <th>2</th>\n",
              "      <td>0.03</td>\n",
              "      <td>12.66</td>\n",
              "      <td>0.0009</td>\n",
              "      <td>0.3798</td>\n",
              "      <td>13.041667</td>\n",
              "      <td>13.461238</td>\n",
              "      <td>0.145669</td>\n",
              "      <td>0.641982</td>\n",
              "    </tr>\n",
              "    <tr>\n",
              "      <th>3</th>\n",
              "      <td>0.04</td>\n",
              "      <td>12.55</td>\n",
              "      <td>0.0016</td>\n",
              "      <td>0.5020</td>\n",
              "      <td>13.041667</td>\n",
              "      <td>12.622095</td>\n",
              "      <td>0.241736</td>\n",
              "      <td>0.005198</td>\n",
              "    </tr>\n",
              "    <tr>\n",
              "      <th>4</th>\n",
              "      <td>0.05</td>\n",
              "      <td>11.57</td>\n",
              "      <td>0.0025</td>\n",
              "      <td>0.5785</td>\n",
              "      <td>13.041667</td>\n",
              "      <td>11.782952</td>\n",
              "      <td>2.165803</td>\n",
              "      <td>0.045349</td>\n",
              "    </tr>\n",
              "    <tr>\n",
              "      <th>5</th>\n",
              "      <td>0.06</td>\n",
              "      <td>11.42</td>\n",
              "      <td>0.0036</td>\n",
              "      <td>0.6852</td>\n",
              "      <td>13.041667</td>\n",
              "      <td>10.943810</td>\n",
              "      <td>2.629803</td>\n",
              "      <td>0.226757</td>\n",
              "    </tr>\n",
              "    <tr>\n",
              "      <th>total</th>\n",
              "      <td>0.21</td>\n",
              "      <td>78.25</td>\n",
              "      <td>0.0091</td>\n",
              "      <td>2.5919</td>\n",
              "      <td>78.250000</td>\n",
              "      <td>78.250000</td>\n",
              "      <td>13.428683</td>\n",
              "      <td>1.105870</td>\n",
              "    </tr>\n",
              "  </tbody>\n",
              "</table>\n",
              "</div>"
            ],
            "text/plain": [
              "          X      Y      X2  ...      y_fit  (y-y_mean)^2  (y-y_pred)^2\n",
              "0      0.01  15.46  0.0001  ...  15.139524      5.848336      0.102705\n",
              "1      0.02  14.59  0.0004  ...  14.300381      2.397336      0.083879\n",
              "2      0.03  12.66  0.0009  ...  13.461238      0.145669      0.641982\n",
              "3      0.04  12.55  0.0016  ...  12.622095      0.241736      0.005198\n",
              "4      0.05  11.57  0.0025  ...  11.782952      2.165803      0.045349\n",
              "5      0.06  11.42  0.0036  ...  10.943810      2.629803      0.226757\n",
              "total  0.21  78.25  0.0091  ...  78.250000     13.428683      1.105870\n",
              "\n",
              "[7 rows x 8 columns]"
            ]
          },
          "metadata": {
            "tags": []
          },
          "execution_count": 129
        }
      ]
    }
  ]
}