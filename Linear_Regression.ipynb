{
  "nbformat": 4,
  "nbformat_minor": 2,
  "metadata": {
    "colab": {
      "name": "statistics.ipynb",
      "provenance": [],
      "collapsed_sections": []
    },
    "kernelspec": {
      "name": "python3",
      "display_name": "Python 3.8.8 64-bit ('base': conda)"
    },
    "language_info": {
      "name": "python",
      "version": "3.8.8",
      "mimetype": "text/x-python",
      "codemirror_mode": {
        "name": "ipython",
        "version": 3
      },
      "pygments_lexer": "ipython3",
      "nbconvert_exporter": "python",
      "file_extension": ".py"
    },
    "interpreter": {
      "hash": "54adb0d17bf591e3a673d66c2c3badaa781b6712f9e23ba5857d722fb32df531"
    }
  },
  "cells": [
    {
      "cell_type": "code",
      "execution_count": null,
      "source": [
        "# !pip install tabulate"
      ],
      "outputs": [],
      "metadata": {}
    },
    {
      "cell_type": "code",
      "execution_count": 1,
      "source": [
        "import matplotlib.pyplot as plt\n",
        "import numpy as np\n",
        "import pandas as pd\n",
        "\n",
        "np.set_printoptions(precision=3)\n",
        "\n",
        "\n",
        "a = np.array([0.01,0.02,0.03,0.04,0.05,0.06])\n",
        "b = np.array([15.46,14.59,12.66,12.55,11.57,11.42])\n",
        "\n",
        "plt.scatter(a,b)\n",
        "plt.show()\n",
        "\n",
        "print(\"covar =\", np.cov(a,b)[0][1])"
      ],
      "outputs": [
        {
          "output_type": "display_data",
          "data": {
            "image/png": "[encoded data removed]",
            "text/plain": [
              "<Figure size 432x288 with 1 Axes>"
            ]
          },
          "metadata": {
            "needs_background": "light"
          }
        },
        {
          "output_type": "stream",
          "name": "stdout",
          "text": [
            "covar = -0.029370000000000004\n"
          ]
        }
      ],
      "metadata": {
        "colab": {
          "base_uri": "https://localhost:8080/",
          "height": 282
        },
        "id": "284XXuFmquz9",
        "outputId": "c8f9e03c-832b-497d-9996-8472b4201c3f"
      }
    },
    {
      "cell_type": "code",
      "execution_count": 2,
      "source": [
        "import numpy as np\n",
        "from sklearn.linear_model import LinearRegression\n",
        "\n",
        "x = a.copy().reshape(-1, 1)\n",
        "y = b.copy()\n",
        "model = LinearRegression()\n",
        "model.fit(x,y)\n",
        "\n",
        "r_sq = model.score(x,y)\n",
        "print('coefficient of determination, R:', r_sq, np.sqrt(r_sq))\n",
        "\n",
        "print('intercept:', model.intercept_)\n",
        "\n",
        "print('slope:', model.coef_)"
      ],
      "outputs": [
        {
          "output_type": "stream",
          "name": "stdout",
          "text": [
            "coefficient of determination, R: 0.9176486295238322 0.9579397838715292\n",
            "intercept: 15.97866666666667\n",
            "slope: [-83.914]\n"
          ]
        }
      ],
      "metadata": {
        "colab": {
          "base_uri": "https://localhost:8080/"
        },
        "id": "P7P3Ymbdrwzm",
        "outputId": "4a4df1a4-81ed-47b5-913c-72797bed8195"
      }
    },
    {
      "cell_type": "code",
      "execution_count": 3,
      "source": [
        "y_pred = model.predict(x)\n",
        "print('predicted response:', y_pred, sep='\\n')\n",
        "print(\"std error of estimate = \", np.sqrt(np.sum((y - y_pred)**2)/(y.shape[0] - 2)))"
      ],
      "outputs": [
        {
          "output_type": "stream",
          "name": "stdout",
          "text": [
            "predicted response:\n",
            "[15.14  14.3   13.461 12.622 11.783 10.944]\n",
            "std error of estimate =  0.5258018819361704\n"
          ]
        }
      ],
      "metadata": {
        "colab": {
          "base_uri": "https://localhost:8080/"
        },
        "id": "r8j8npIYtADr",
        "outputId": "6b51966d-891c-4db1-d2d5-733d9834cf7f"
      }
    },
    {
      "cell_type": "code",
      "execution_count": 4,
      "source": [
        "plt.scatter(a,b)\n",
        "plt.plot(x, model.predict(x),color='k')\n",
        "plt.show()"
      ],
      "outputs": [
        {
          "output_type": "display_data",
          "data": {
            "image/png": "[encoded data removed]",
            "text/plain": [
              "<Figure size 432x288 with 1 Axes>"
            ]
          },
          "metadata": {
            "needs_background": "light"
          }
        }
      ],
      "metadata": {
        "colab": {
          "base_uri": "https://localhost:8080/",
          "height": 265
        },
        "id": "-F81nyTTtYqk",
        "outputId": "c21b4dce-b0d6-4ae8-bdf9-55dc9c1c75ed"
      }
    },
    {
      "cell_type": "code",
      "execution_count": 5,
      "source": [
        "import pandas as pd\n",
        "data = {'X':a, \n",
        "        'Y':b,\n",
        "        'X2':a**2,\n",
        "        'xy': a*b,\n",
        "        'y_mean': np.mean(np.array(b)),\n",
        "        'y_fit': y_pred,\n",
        "        '(y-y_mean)^2':(y - np.mean(np.array(b)))**2,\n",
        "        '(y-y_pred)^2':(y - y_pred)**2}\n",
        "\n",
        "df = pd.DataFrame(data)\n",
        "df.loc['total'] = df.sum()\n",
        "df"
      ],
      "outputs": [
        {
          "output_type": "execute_result",
          "data": {
            "text/html": [
              "<div>\n",
              "<style scoped>\n",
              "    .dataframe tbody tr th:only-of-type {\n",
              "        vertical-align: middle;\n",
              "    }\n",
              "\n",
              "    .dataframe tbody tr th {\n",
              "        vertical-align: top;\n",
              "    }\n",
              "\n",
              "    .dataframe thead th {\n",
              "        text-align: right;\n",
              "    }\n",
              "</style>\n",
              "<table border=\"1\" class=\"dataframe\">\n",
              "  <thead>\n",
              "    <tr style=\"text-align: right;\">\n",
              "      <th></th>\n",
              "      <th>X</th>\n",
              "      <th>Y</th>\n",
              "      <th>X2</th>\n",
              "      <th>xy</th>\n",
              "      <th>y_mean</th>\n",
              "      <th>y_fit</th>\n",
              "      <th>(y-y_mean)^2</th>\n",
              "      <th>(y-y_pred)^2</th>\n",
              "    </tr>\n",
              "  </thead>\n",
              "  <tbody>\n",
              "    <tr>\n",
              "      <th>0</th>\n",
              "      <td>0.01</td>\n",
              "      <td>15.46</td>\n",
              "      <td>0.0001</td>\n",
              "      <td>0.1546</td>\n",
              "      <td>13.041667</td>\n",
              "      <td>15.139524</td>\n",
              "      <td>5.848336</td>\n",
              "      <td>0.102705</td>\n",
              "    </tr>\n",
              "    <tr>\n",
              "      <th>1</th>\n",
              "      <td>0.02</td>\n",
              "      <td>14.59</td>\n",
              "      <td>0.0004</td>\n",
              "      <td>0.2918</td>\n",
              "      <td>13.041667</td>\n",
              "      <td>14.300381</td>\n",
              "      <td>2.397336</td>\n",
              "      <td>0.083879</td>\n",
              "    </tr>\n",
              "    <tr>\n",
              "      <th>2</th>\n",
              "      <td>0.03</td>\n",
              "      <td>12.66</td>\n",
              "      <td>0.0009</td>\n",
              "      <td>0.3798</td>\n",
              "      <td>13.041667</td>\n",
              "      <td>13.461238</td>\n",
              "      <td>0.145669</td>\n",
              "      <td>0.641982</td>\n",
              "    </tr>\n",
              "    <tr>\n",
              "      <th>3</th>\n",
              "      <td>0.04</td>\n",
              "      <td>12.55</td>\n",
              "      <td>0.0016</td>\n",
              "      <td>0.5020</td>\n",
              "      <td>13.041667</td>\n",
              "      <td>12.622095</td>\n",
              "      <td>0.241736</td>\n",
              "      <td>0.005198</td>\n",
              "    </tr>\n",
              "    <tr>\n",
              "      <th>4</th>\n",
              "      <td>0.05</td>\n",
              "      <td>11.57</td>\n",
              "      <td>0.0025</td>\n",
              "      <td>0.5785</td>\n",
              "      <td>13.041667</td>\n",
              "      <td>11.782952</td>\n",
              "      <td>2.165803</td>\n",
              "      <td>0.045349</td>\n",
              "    </tr>\n",
              "    <tr>\n",
              "      <th>5</th>\n",
              "      <td>0.06</td>\n",
              "      <td>11.42</td>\n",
              "      <td>0.0036</td>\n",
              "      <td>0.6852</td>\n",
              "      <td>13.041667</td>\n",
              "      <td>10.943810</td>\n",
              "      <td>2.629803</td>\n",
              "      <td>0.226757</td>\n",
              "    </tr>\n",
              "    <tr>\n",
              "      <th>total</th>\n",
              "      <td>0.21</td>\n",
              "      <td>78.25</td>\n",
              "      <td>0.0091</td>\n",
              "      <td>2.5919</td>\n",
              "      <td>78.250000</td>\n",
              "      <td>78.250000</td>\n",
              "      <td>13.428683</td>\n",
              "      <td>1.105870</td>\n",
              "    </tr>\n",
              "  </tbody>\n",
              "</table>\n",
              "</div>"
            ],
            "text/plain": [
              "          X      Y      X2      xy     y_mean      y_fit  (y-y_mean)^2  \\\n",
              "0      0.01  15.46  0.0001  0.1546  13.041667  15.139524      5.848336   \n",
              "1      0.02  14.59  0.0004  0.2918  13.041667  14.300381      2.397336   \n",
              "2      0.03  12.66  0.0009  0.3798  13.041667  13.461238      0.145669   \n",
              "3      0.04  12.55  0.0016  0.5020  13.041667  12.622095      0.241736   \n",
              "4      0.05  11.57  0.0025  0.5785  13.041667  11.782952      2.165803   \n",
              "5      0.06  11.42  0.0036  0.6852  13.041667  10.943810      2.629803   \n",
              "total  0.21  78.25  0.0091  2.5919  78.250000  78.250000     13.428683   \n",
              "\n",
              "       (y-y_pred)^2  \n",
              "0          0.102705  \n",
              "1          0.083879  \n",
              "2          0.641982  \n",
              "3          0.005198  \n",
              "4          0.045349  \n",
              "5          0.226757  \n",
              "total      1.105870  "
            ]
          },
          "metadata": {},
          "execution_count": 5
        }
      ],
      "metadata": {
        "colab": {
          "base_uri": "https://localhost:8080/",
          "height": 254
        },
        "id": "C2WFatuRzca9",
        "outputId": "a7d270b5-f75c-4543-889c-c2238316b3b1"
      }
    },
    {
      "cell_type": "markdown",
      "source": [
        "## Newton Raphson Method"
      ],
      "metadata": {}
    },
    {
      "cell_type": "code",
      "execution_count": 5,
      "source": [
        "import numpy as np\n",
        "from tabulate import tabulate"
      ],
      "outputs": [],
      "metadata": {}
    },
    {
      "cell_type": "code",
      "execution_count": 18,
      "source": [
        "##################################\n",
        "y0 = 200 \n",
        "x0 = 60  \n",
        "##################################\n",
        "\n",
        "ly = []\n",
        "lx = []\n",
        "lf1 = []\n",
        "lf2 = []\n",
        "ldf1_x = []\n",
        "ldf1_y = []\n",
        "ldf2_x = []\n",
        "ldf2_y = []\n",
        "ldel_x = []\n",
        "ldel_y = []\n",
        "l_error = []\n",
        "\n",
        "x_init = np.array((x0, y0))\n",
        "error  = np.inf\n",
        "\n",
        "while error > 1e-4:\n",
        "\n",
        "    x = x_init[0]\n",
        "    y = x_init[1]\n",
        "\n",
        "#####################################\n",
        "    f1 = y - 18 - 11*x + 0.12*x*x\n",
        "    f2 = y - 0.7*x - 185\n",
        "    df1_y  = 1\n",
        "    df1_x = -11 + 0.24*x\n",
        "    df2_y  = 1\n",
        "    df2_x = -0.7\n",
        "#####################################\n",
        "\n",
        "    J = np.array([[df1_x, df1_y], [df2_x, df2_y]])\n",
        "\n",
        "    F = np.array([-1*f1, -1*f2])\n",
        "\n",
        "    x_new = np.matmul(np.linalg.inv(J), F) + x_init\n",
        "    del_xy = x_new - x_init\n",
        "    error = np.linalg.norm(del_xy/x_init)**2\n",
        "    print(x_new, error)\n",
        "\n",
        "    ly.append(y)\n",
        "    lx.append(x)\n",
        "    lf1.append(f1)\n",
        "    lf2.append(f2)\n",
        "    ldf1_x.append(df1_x)\n",
        "    ldf1_y.append(df1_y)\n",
        "    ldf2_x.append(df2_x)\n",
        "    ldf2_y.append(df2_y)\n",
        "    ldel_x.append(del_xy[0])\n",
        "    ldel_y.append(del_xy[1])\n",
        "    l_error.append(error)\n",
        "\n",
        "    x_init = x_new\n",
        "\n",
        "print(x_init)"
      ],
      "outputs": [
        {
          "output_type": "stream",
          "name": "stdout",
          "text": [
            "[ 64.63414634 230.24390244] 0.028832705400224787\n",
            "[ 64.13972174 229.89780522] 6.077573792461186e-05\n",
            "[ 64.13972174 229.89780522]\n"
          ]
        }
      ],
      "metadata": {}
    },
    {
      "cell_type": "code",
      "execution_count": 22,
      "source": [
        "from tabulate import tabulate\n",
        "headers = ['y', 'x', 'f1', 'f2', 'df1_y','df1_x','df2_y','df2_x', 'dely', 'delx', 'error']\n",
        "\n",
        "\n",
        "SNo = range(1, len(ly)+1)\n",
        "\n",
        "table = zip(SNo, ly, lx, lf1, lf2, ldf1_x, ldf1_y, ldf2_x, ldf2_y, ldel_x, ldel_y, l_error)\n",
        "print(tabulate(table, headers=headers, floatfmt=\".7f\"))\n",
        "print('Final values = ', x_init)"
      ],
      "outputs": [
        {
          "output_type": "stream",
          "name": "stdout",
          "text": [
            "              y           x           f1           f2      df1_y    df1_x       df2_y    df2_x        dely        delx      error\n",
            "--  -----------  ----------  -----------  -----------  ---------  -------  ----------  -------  ----------  ----------  ---------\n",
            " 1  200.0000000  60.0000000  -46.0000000  -27.0000000  3.4000000        1  -0.7000000        1   4.6341463  30.2439024  0.0288327\n",
            " 2  230.2439024  64.6341463    2.5770375    0.0000000  4.5121951        1  -0.7000000        1  -0.4944246  -0.3460972  0.0000608\n",
            "Final values =  [ 64.13972174 229.89780522]\n"
          ]
        }
      ],
      "metadata": {}
    }
  ]
}